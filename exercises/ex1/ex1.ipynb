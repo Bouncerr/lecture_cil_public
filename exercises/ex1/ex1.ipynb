{
 "cells": [
  {
   "cell_type": "markdown",
   "metadata": {},
   "source": [
    "Data Generation\n",
    "==="
   ]
  },
  {
   "cell_type": "code",
   "execution_count": 1,
   "metadata": {
    "collapsed": true
   },
   "outputs": [],
   "source": [
    "import numpy as np"
   ]
  },
  {
   "cell_type": "code",
   "execution_count": 2,
   "metadata": {
    "collapsed": true
   },
   "outputs": [],
   "source": [
    "num_samples, num_features = 10, 5"
   ]
  },
  {
   "cell_type": "code",
   "execution_count": 3,
   "metadata": {
    "collapsed": true
   },
   "outputs": [],
   "source": [
    "data = np.random.rand(num_samples, num_features)"
   ]
  },
  {
   "cell_type": "markdown",
   "metadata": {},
   "source": [
    "Solution\n",
    "==="
   ]
  },
  {
   "cell_type": "code",
   "execution_count": 4,
   "metadata": {
    "collapsed": false,
    "scrolled": false
   },
   "outputs": [
    {
     "name": "stdout",
     "output_type": "stream",
     "text": [
      "[[ 0.91526165  0.68234787  0.80822982  0.56180549  0.75080432]\n",
      " [ 0.56712149  0.46585556  0.31759726  0.42344558  0.63604713]\n",
      " [ 0.33099203  0.00431082  0.82071986  0.6287414   0.19893563]\n",
      " [ 0.07464343  0.13294193  0.71040445  0.84076823  0.57648029]\n",
      " [ 0.76657349  0.55239458  0.71255855  0.81668689  0.6254672 ]\n",
      " [ 0.80000425  0.49554839  0.16460621  0.05992368  0.56444156]\n",
      " [ 0.2992194   0.11692532  0.32126945  0.95502429  0.83334684]\n",
      " [ 0.37171812  0.23975321  0.84680365  0.72078809  0.27203294]\n",
      " [ 0.77282808  0.89809143  0.21249195  0.55835269  0.47764323]\n",
      " [ 0.93642995  0.91553879  0.19373215  0.76336129  0.46046305]]\n"
     ]
    }
   ],
   "source": [
    "print(data)"
   ]
  },
  {
   "cell_type": "code",
   "execution_count": 5,
   "metadata": {
    "collapsed": false
   },
   "outputs": [
    {
     "data": {
      "text/plain": [
       "array([ 0.58347919,  0.45037079,  0.51084134,  0.63288976,  0.53956622])"
      ]
     },
     "execution_count": 5,
     "metadata": {},
     "output_type": "execute_result"
    }
   ],
   "source": [
    "np.mean(data, axis=0)"
   ]
  },
  {
   "cell_type": "code",
   "execution_count": 6,
   "metadata": {
    "collapsed": false
   },
   "outputs": [],
   "source": [
    "centered_data = data - np.mean(data, axis=0)"
   ]
  },
  {
   "cell_type": "code",
   "execution_count": 7,
   "metadata": {
    "collapsed": true
   },
   "outputs": [],
   "source": [
    "std_data = centered_data / np.std(centered_data, axis=0)"
   ]
  },
  {
   "cell_type": "code",
   "execution_count": 8,
   "metadata": {
    "collapsed": false
   },
   "outputs": [
    {
     "name": "stdout",
     "output_type": "stream",
     "text": [
      "(array([[ 1.17340147,  0.75718412,  1.07832952, -0.29307249,  1.13350773],\n",
      "       [-0.05785159,  0.05054303, -0.7007023 , -0.86351491,  0.51771847],\n",
      "       [-0.89296102, -1.45596077,  1.12361839, -0.01710323, -1.82783038],\n",
      "       [-1.79957865, -1.03610276,  0.7236151 ,  0.85705965,  0.19808162],\n",
      "       [ 0.64754214,  0.33301045,  0.73142588,  0.75777497,  0.46094634],\n",
      "       [ 0.76577534,  0.1474618 , -1.25544728, -2.36227502,  0.13348157],\n",
      "       [-1.00532998, -1.08838172, -0.68738696,  1.32812457,  1.57643254],\n",
      "       [-0.74892673, -0.68746571,  1.21819811,  0.36239496, -1.43558878],\n",
      "       [ 0.66966249,  1.46138128, -1.08181375, -0.30730801, -0.33227994],\n",
      "       [ 1.24826653,  1.51833028, -1.14983672,  0.5379195 , -0.42446916]]), '\\n\\n', array([  6.66133815e-17,   0.00000000e+00,   2.44249065e-16,\n",
      "        -8.88178420e-17,  -2.10942375e-16]), '\\n\\n', array([ 1.,  1.,  1.,  1.,  1.]))\n"
     ]
    }
   ],
   "source": [
    "print(std_data, \"\\n\\n\", np.mean(std_data, axis=0), \"\\n\\n\", np.std(std_data, axis=0))"
   ]
  }
 ],
 "metadata": {
  "kernelspec": {
   "display_name": "Python 2",
   "language": "python",
   "name": "python2"
  },
  "language_info": {
   "codemirror_mode": {
    "name": "ipython",
    "version": 2
   },
   "file_extension": ".py",
   "mimetype": "text/x-python",
   "name": "python",
   "nbconvert_exporter": "python",
   "pygments_lexer": "ipython2",
   "version": "2.7.6"
  }
 },
 "nbformat": 4,
 "nbformat_minor": 0
}
