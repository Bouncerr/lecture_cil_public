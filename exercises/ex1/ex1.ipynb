{
 "cells": [
  {
   "cell_type": "markdown",
   "metadata": {},
   "source": [
    "Data Generation\n",
    "==="
   ]
  },
  {
   "cell_type": "code",
   "execution_count": 1,
   "metadata": {
    "collapsed": true
   },
   "outputs": [],
   "source": [
    "import numpy as np"
   ]
  },
  {
   "cell_type": "code",
   "execution_count": 2,
   "metadata": {
    "collapsed": true
   },
   "outputs": [],
   "source": [
    "num_samples, num_features = 10, 5"
   ]
  },
  {
   "cell_type": "code",
   "execution_count": 4,
   "metadata": {
    "collapsed": false
   },
   "outputs": [
    {
     "data": {
      "text/plain": [
       "array([[ 0.03922382,  0.54600794,  0.84755044,  0.75014668,  0.92066044],\n",
       "       [ 0.20232815,  0.10368315,  0.63236762,  0.73168421,  0.47554526],\n",
       "       [ 0.48158561,  0.5580223 ,  0.87792689,  0.85032364,  0.42473651],\n",
       "       [ 0.98553674,  0.27664415,  0.38443798,  0.76724864,  0.40859603],\n",
       "       [ 0.30330109,  0.86258683,  0.59435667,  0.52828942,  0.74262187],\n",
       "       [ 0.6584849 ,  0.14682076,  0.7752057 ,  0.31090843,  0.51431686],\n",
       "       [ 0.47671075,  0.71762038,  0.16035897,  0.0167796 ,  0.15191394],\n",
       "       [ 0.26930333,  0.05844265,  0.55306294,  0.07169883,  0.38777526],\n",
       "       [ 0.17417705,  0.69118323,  0.37231383,  0.544765  ,  0.50660424],\n",
       "       [ 0.14741817,  0.768586  ,  0.41531449,  0.02920173,  0.69171461]])"
      ]
     },
     "execution_count": 4,
     "metadata": {},
     "output_type": "execute_result"
    }
   ],
   "source": [
    "data = np.random.rand(num_samples, num_features)\n",
    "data"
   ]
  },
  {
   "cell_type": "markdown",
   "metadata": {},
   "source": [
    "Solution\n",
    "==="
   ]
  },
  {
   "cell_type": "code",
   "execution_count": 5,
   "metadata": {
    "collapsed": false,
    "scrolled": false
   },
   "outputs": [
    {
     "name": "stdout",
     "output_type": "stream",
     "text": [
      "[[ 0.03922382  0.54600794  0.84755044  0.75014668  0.92066044]\n",
      " [ 0.20232815  0.10368315  0.63236762  0.73168421  0.47554526]\n",
      " [ 0.48158561  0.5580223   0.87792689  0.85032364  0.42473651]\n",
      " [ 0.98553674  0.27664415  0.38443798  0.76724864  0.40859603]\n",
      " [ 0.30330109  0.86258683  0.59435667  0.52828942  0.74262187]\n",
      " [ 0.6584849   0.14682076  0.7752057   0.31090843  0.51431686]\n",
      " [ 0.47671075  0.71762038  0.16035897  0.0167796   0.15191394]\n",
      " [ 0.26930333  0.05844265  0.55306294  0.07169883  0.38777526]\n",
      " [ 0.17417705  0.69118323  0.37231383  0.544765    0.50660424]\n",
      " [ 0.14741817  0.768586    0.41531449  0.02920173  0.69171461]]\n"
     ]
    }
   ],
   "source": [
    "print(data)"
   ]
  },
  {
   "cell_type": "code",
   "execution_count": 6,
   "metadata": {
    "collapsed": false
   },
   "outputs": [
    {
     "data": {
      "text/plain": [
       "array([ 0.37380696,  0.47295974,  0.56128955,  0.46010462,  0.5224485 ])"
      ]
     },
     "execution_count": 6,
     "metadata": {},
     "output_type": "execute_result"
    }
   ],
   "source": [
    "np.mean(data, axis=0)"
   ]
  },
  {
   "cell_type": "code",
   "execution_count": 9,
   "metadata": {
    "collapsed": false
   },
   "outputs": [
    {
     "data": {
      "text/plain": [
       "array([  1.11022302e-17,   4.44089210e-17,  -5.55111512e-17,\n",
       "        -2.22044605e-17,  -3.33066907e-17])"
      ]
     },
     "execution_count": 9,
     "metadata": {},
     "output_type": "execute_result"
    }
   ],
   "source": [
    "centered_data = data - np.mean(data, axis=0)\n",
    "np.mean(centered_data, axis=0)"
   ]
  },
  {
   "cell_type": "code",
   "execution_count": 10,
   "metadata": {
    "collapsed": true
   },
   "outputs": [],
   "source": [
    "std_data = centered_data / np.std(centered_data, axis=0)"
   ]
  },
  {
   "cell_type": "code",
   "execution_count": 11,
   "metadata": {
    "collapsed": false
   },
   "outputs": [
    {
     "name": "stdout",
     "output_type": "stream",
     "text": [
      "[[-1.24191941  0.25629335  1.30223535  0.9304838   1.95201951]\n",
      " [-0.63650206 -1.2956258   0.32334273  0.87125433 -0.22991787]\n",
      " [ 0.40005721  0.29844636  1.4404215   1.25186145 -0.47898038]\n",
      " [ 2.27064365 -0.6887833  -0.80451916  0.98534857 -0.55810042]\n",
      " [-0.26170658  1.36702658  0.15042631  0.21874361  1.07928132]\n",
      " [ 1.05667923 -1.14427529  0.97313041 -0.4786362  -0.03986099]\n",
      " [ 0.3819625   0.85840438 -1.82388166 -1.42223075 -1.81634607]\n",
      " [-0.38790086 -1.45435443 -0.03742387 -1.2460444  -0.66016304]\n",
      " [-0.74099449  0.76564827 -0.85967339  0.27159893 -0.07766796]\n",
      " [-0.84031919  1.03721987 -0.66405821 -1.38237932  0.82973589]]\n",
      "\n",
      "\n",
      "[  1.11022302e-17   1.33226763e-16  -1.99840144e-16   0.00000000e+00\n",
      "  -1.22124533e-16]\n",
      "[ 1.  1.  1.  1.  1.]\n"
     ]
    }
   ],
   "source": [
    "print(std_data)\n",
    "print('\\n')\n",
    "print(np.mean(std_data, axis=0))\n",
    "print(np.std(std_data, axis=0))"
   ]
  },
  {
   "cell_type": "code",
   "execution_count": null,
   "metadata": {
    "collapsed": true
   },
   "outputs": [],
   "source": []
  },
  {
   "cell_type": "code",
   "execution_count": null,
   "metadata": {
    "collapsed": true
   },
   "outputs": [],
   "source": []
  }
 ],
 "metadata": {
  "kernelspec": {
   "display_name": "Python 2",
   "language": "python",
   "name": "python2"
  },
  "language_info": {
   "codemirror_mode": {
    "name": "ipython",
    "version": 2
   },
   "file_extension": ".py",
   "mimetype": "text/x-python",
   "name": "python",
   "nbconvert_exporter": "python",
   "pygments_lexer": "ipython2",
   "version": "2.7.6"
  }
 },
 "nbformat": 4,
 "nbformat_minor": 0
}
