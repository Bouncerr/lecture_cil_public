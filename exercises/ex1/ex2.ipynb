{
 "cells": [
  {
   "cell_type": "markdown",
   "metadata": {},
   "source": [
    "Data Generation\n",
    "==="
   ]
  },
  {
   "cell_type": "code",
   "execution_count": 40,
   "metadata": {
    "collapsed": true
   },
   "outputs": [],
   "source": [
    "import numpy as np\n",
    "import itertools"
   ]
  },
  {
   "cell_type": "code",
   "execution_count": 42,
   "metadata": {
    "collapsed": false
   },
   "outputs": [
    {
     "name": "stdout",
     "output_type": "stream",
     "text": [
      "[[ 0.5770211   0.43727208]\n",
      " [ 0.2075602   0.96563561]\n",
      " [ 0.89974397  0.71276513]\n",
      " [ 0.45142461  0.46265782]]\n",
      "\n",
      "\n",
      "[[ 0.06996521  0.57177429]\n",
      " [ 0.03982235  0.80206858]\n",
      " [ 0.97983539  0.05024302]\n",
      " [ 0.19862208  0.31296209]\n",
      " [ 0.24386778  0.137138  ]]\n"
     ]
    }
   ],
   "source": [
    "p_num = 4\n",
    "q_num = 5\n",
    "p, q = (np.random.rand(i, 2) for i in (p_num, q_num))\n",
    "\n",
    "print(p) # 4 x 2 matrix\n",
    "print('\\n')\n",
    "print(q) # 5 x 2 matrix"
   ]
  },
  {
   "cell_type": "markdown",
   "metadata": {},
   "source": [
    "Solution\n",
    "==="
   ]
  },
  {
   "cell_type": "code",
   "execution_count": 43,
   "metadata": {
    "collapsed": false
   },
   "outputs": [
    {
     "name": "stdout",
     "output_type": "stream",
     "text": [
      "[(0, 0), (0, 1), (0, 2), (0, 3), (0, 4), (1, 0), (1, 1), (1, 2), (1, 3), (1, 4), (2, 0), (2, 1), (2, 2), (2, 3), (2, 4), (3, 0), (3, 1), (3, 2), (3, 3), (3, 4)]\n"
     ]
    }
   ],
   "source": [
    "pairs = list(itertools.product(range(len(p)), range(len(q)))) # cartesian product of two sets\n",
    "\n",
    "print(pairs)"
   ]
  },
  {
   "cell_type": "code",
   "execution_count": 44,
   "metadata": {
    "collapsed": false
   },
   "outputs": [
    {
     "data": {
      "text/plain": [
       "[0, 0, 0, 0, 0, 1, 1, 1, 1, 1, 2, 2, 2, 2, 2, 3, 3, 3, 3, 3]"
      ]
     },
     "execution_count": 44,
     "metadata": {},
     "output_type": "execute_result"
    }
   ],
   "source": [
    "map(lambda x : x[0], pairs) # retrieve list of first elements from list of pairs"
   ]
  },
  {
   "cell_type": "code",
   "execution_count": 45,
   "metadata": {
    "collapsed": false,
    "scrolled": true
   },
   "outputs": [
    {
     "name": "stdout",
     "output_type": "stream",
     "text": [
      "(0, 0, 0, 0, 0, 1, 1, 1, 1, 1, 2, 2, 2, 2, 2, 3, 3, 3, 3, 3)\n",
      "(0, 1, 2, 3, 4, 0, 1, 2, 3, 4, 0, 1, 2, 3, 4, 0, 1, 2, 3, 4)\n"
     ]
    }
   ],
   "source": [
    "p_inds, q_inds = zip(*pairs) # Use * to unzip. Remove it to perform zip.\n",
    "\n",
    "print(p_inds)\n",
    "print(q_inds)"
   ]
  },
  {
   "cell_type": "code",
   "execution_count": 36,
   "metadata": {
    "collapsed": false
   },
   "outputs": [
    {
     "data": {
      "text/plain": [
       "array([[ 0.98254819,  0.8043184 ],\n",
       "       [ 0.98254819,  0.8043184 ],\n",
       "       [ 0.98254819,  0.8043184 ],\n",
       "       [ 0.98254819,  0.8043184 ],\n",
       "       [ 0.98254819,  0.8043184 ],\n",
       "       [ 0.06555706,  0.59702304],\n",
       "       [ 0.06555706,  0.59702304],\n",
       "       [ 0.06555706,  0.59702304],\n",
       "       [ 0.06555706,  0.59702304],\n",
       "       [ 0.06555706,  0.59702304],\n",
       "       [ 0.06873029,  0.722863  ],\n",
       "       [ 0.06873029,  0.722863  ],\n",
       "       [ 0.06873029,  0.722863  ],\n",
       "       [ 0.06873029,  0.722863  ],\n",
       "       [ 0.06873029,  0.722863  ],\n",
       "       [ 0.7728948 ,  0.87390383],\n",
       "       [ 0.7728948 ,  0.87390383],\n",
       "       [ 0.7728948 ,  0.87390383],\n",
       "       [ 0.7728948 ,  0.87390383],\n",
       "       [ 0.7728948 ,  0.87390383]])"
      ]
     },
     "execution_count": 36,
     "metadata": {},
     "output_type": "execute_result"
    }
   ],
   "source": [
    "p[p_inds, :]"
   ]
  },
  {
   "cell_type": "code",
   "execution_count": 46,
   "metadata": {
    "collapsed": false
   },
   "outputs": [
    {
     "name": "stdout",
     "output_type": "stream",
     "text": [
      "[ 0.27519652  0.42165898  0.31205084  0.15863879  0.2010716   0.17405912\n",
      "  0.05489016  1.43435256  0.42606262  0.68772654  0.7084112   0.74744029\n",
      "  0.44535018  0.65141437  0.76152017  0.15741768  0.28461608  0.44930392\n",
      "  0.08631793  0.14904299]\n"
     ]
    }
   ],
   "source": [
    "distances = np.sum((p[p_inds, :] - q[q_inds, :])**2, axis=1) # alternatively np.linalg.norm\n",
    "\n",
    "print(distances)"
   ]
  },
  {
   "cell_type": "code",
   "execution_count": 47,
   "metadata": {
    "collapsed": false
   },
   "outputs": [
    {
     "name": "stdout",
     "output_type": "stream",
     "text": [
      "[[ 0.27519652  0.42165898  0.31205084  0.15863879  0.2010716 ]\n",
      " [ 0.17405912  0.05489016  1.43435256  0.42606262  0.68772654]\n",
      " [ 0.7084112   0.74744029  0.44535018  0.65141437  0.76152017]\n",
      " [ 0.15741768  0.28461608  0.44930392  0.08631793  0.14904299]]\n"
     ]
    }
   ],
   "source": [
    "distances = np.reshape(distances, (len(p), len(q)))\n",
    "\n",
    "print(distances)"
   ]
  },
  {
   "cell_type": "code",
   "execution_count": 48,
   "metadata": {
    "collapsed": false
   },
   "outputs": [
    {
     "data": {
      "text/plain": [
       "array([[ 0.27519652,  0.42165898,  0.31205084,  0.15863879,  0.2010716 ],\n",
       "       [ 0.17405912,  0.05489016,  1.43435256,  0.42606262,  0.68772654],\n",
       "       [ 0.7084112 ,  0.74744029,  0.44535018,  0.65141437,  0.76152017],\n",
       "       [ 0.15741768,  0.28461608,  0.44930392,  0.08631793,  0.14904299]])"
      ]
     },
     "execution_count": 48,
     "metadata": {},
     "output_type": "execute_result"
    }
   ],
   "source": [
    "# Alternative solution:\n",
    "\n",
    "(-2 * p.dot(q.T)) + np.sum(p**2, axis = 1).reshape((4, 1))  + np.sum(q**2, axis = 1).reshape((1,5))"
   ]
  },
  {
   "cell_type": "code",
   "execution_count": null,
   "metadata": {
    "collapsed": true
   },
   "outputs": [],
   "source": []
  }
 ],
 "metadata": {
  "kernelspec": {
   "display_name": "Python 2",
   "language": "python",
   "name": "python2"
  },
  "language_info": {
   "codemirror_mode": {
    "name": "ipython",
    "version": 2
   },
   "file_extension": ".py",
   "mimetype": "text/x-python",
   "name": "python",
   "nbconvert_exporter": "python",
   "pygments_lexer": "ipython2",
   "version": "2.7.6"
  }
 },
 "nbformat": 4,
 "nbformat_minor": 0
}
