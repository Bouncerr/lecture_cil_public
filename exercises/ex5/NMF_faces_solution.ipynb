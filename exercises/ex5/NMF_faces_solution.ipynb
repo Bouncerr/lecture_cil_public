{
 "cells": [
  {
   "cell_type": "code",
   "execution_count": null,
   "metadata": {
    "collapsed": false
   },
   "outputs": [],
   "source": [
    "%matplotlib inline\n",
    "import os,sys\n",
    "import matplotlib\n",
    "import numpy as np\n",
    "import matplotlib.pyplot as plt\n",
    "from PIL import Image"
   ]
  },
  {
   "cell_type": "code",
   "execution_count": null,
   "metadata": {
    "collapsed": false
   },
   "outputs": [],
   "source": [
    "# Load data\n",
    "image_dir = \"CroppedYale/\"\n",
    "files = os.listdir(image_dir)\n",
    "n = len(files)\n",
    "print \"Loading \" + str(n) + \" images\"\n"
   ]
  },
  {
   "cell_type": "code",
   "execution_count": null,
   "metadata": {
    "collapsed": false
   },
   "outputs": [],
   "source": [
    "imgs = [Image.open(image_dir + files[i]) for i in range(n)]\n",
    "print imgs[1].mode  #gray scale images \n",
    "# imgs[2].show()"
   ]
  },
  {
   "cell_type": "code",
   "execution_count": null,
   "metadata": {
    "collapsed": false
   },
   "outputs": [],
   "source": [
    "plt.imshow(imgs[0]) # Display first image\n",
    "plt.colorbar()"
   ]
  },
  {
   "cell_type": "code",
   "execution_count": null,
   "metadata": {
    "collapsed": false
   },
   "outputs": [],
   "source": [
    "# All images have the same size\n",
    "img0 = imgs[0]\n",
    "width, height = img0.size\n",
    "print([width, height])\n",
    "# Compute input matrix X\n",
    "X_list = [np.ravel(imgs[i].getdata()) for i in range(n)]\n",
    "X = np.array(X_list, dtype=np.float32)  # change list to array \n",
    "print(X.shape)"
   ]
  },
  {
   "cell_type": "code",
   "execution_count": null,
   "metadata": {
    "collapsed": false
   },
   "outputs": [],
   "source": [
    "rank = 3\n",
    "# ----rand. init. in [0, 1]\n",
    "print \"rand. init.\"\n",
    "U, V = np.random.random((rank, X.shape[0])), np.random.random((rank, X.shape[1]))\n",
    "#  ----init. to be constant matrix, \n",
    "# c = .5\n",
    "# print \"consant init., c:\", c\n",
    "# U, V = c*np.ones((rank, X.shape[0])), c*np.ones((rank, X.shape[1]))\n",
    "\n",
    "# run alternating LS\n",
    "nm_iterations = 20\n",
    "for _ in range(nm_iterations):\n",
    "    V = np.linalg.lstsq(np.dot(U, U.T), np.dot(U, X))[0]\n",
    "    V = np.maximum(V, 0.)\n",
    "    U = np.linalg.lstsq(np.dot(V, V.T), np.dot(V, X.T))[0]\n",
    "    U = np.maximum(U, 0.)\n",
    "     \n",
    "new_images_stacked = np.reshape(V, (-1, width))\n",
    "# print \"V shape:\" \n",
    "print \"V shape:\",  V.shape\n",
    "print \"V.max:\",  V.max(), \"U.max:\", U.max()\n",
    "fig1 = plt.figure()\n",
    "# plt.imshow(new_images_stacked)\n",
    "# plt.matshow(U, vmin=0, vmax=255)\n",
    "plt.matshow(U)\n",
    "plt.colorbar()\n",
    "# plt.matshow(new_images_stacked, vmin=0, vmax=255)\n",
    "plt.matshow(new_images_stacked)\n",
    "plt.colorbar()"
   ]
  },
  {
   "cell_type": "code",
   "execution_count": null,
   "metadata": {
    "collapsed": true
   },
   "outputs": [],
   "source": []
  },
  {
   "cell_type": "code",
   "execution_count": null,
   "metadata": {
    "collapsed": true
   },
   "outputs": [],
   "source": []
  }
 ],
 "metadata": {
  "kernelspec": {
   "display_name": "Python 2",
   "language": "python",
   "name": "python2"
  },
  "language_info": {
   "codemirror_mode": {
    "name": "ipython",
    "version": 2
   },
   "file_extension": ".py",
   "mimetype": "text/x-python",
   "name": "python",
   "nbconvert_exporter": "python",
   "pygments_lexer": "ipython2",
   "version": "2.7.11"
  }
 },
 "nbformat": 4,
 "nbformat_minor": 0
}
